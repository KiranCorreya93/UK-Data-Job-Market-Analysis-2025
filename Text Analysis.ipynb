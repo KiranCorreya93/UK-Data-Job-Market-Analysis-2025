{
 "cells": [
  {
   "cell_type": "code",
   "execution_count": 7,
   "id": "44ace1a5",
   "metadata": {},
   "outputs": [
    {
     "name": "stdout",
     "output_type": "stream",
     "text": [
      "Filtered and cleaned file saved to: /Users/kirancorreya/Downloads/Dessertation/fies/Reed_Textanalysis.xlsx\n"
     ]
    }
   ],
   "source": [
    "import pandas as pd\n",
    "import re\n",
    "\n",
    "# Load external stopwords from Excel\n",
    "stopwords_path = \"/Users/kirancorreya/Downloads/Dessertation/fies/Stopwords.xlsx\"\n",
    "stopwords_df = pd.read_excel(stopwords_path)\n",
    "stopwords_list = stopwords_df.iloc[:, 0].dropna().astype(str).str.lower().tolist()\n",
    "stopwords = set(stopwords_list)\n",
    "\n",
    "# File paths\n",
    "input_path = \"/Users/kirancorreya/Downloads/Dessertation/fies/Reed_Dataset.xlsx\"\n",
    "output_path = \"/Users/kirancorreya/Downloads/Dessertation/fies/Reed_Textanalysis.xlsx\"\n",
    "\n",
    "# Load dataset\n",
    "df = pd.read_excel(input_path)\n",
    "\n",
    "# Clean text function\n",
    "def clean_text(text):\n",
    "    if pd.isna(text):\n",
    "        return \"\"\n",
    "    text = re.sub(r'[^a-zA-Z\\s]', '', text)  # Remove punctuation and digits\n",
    "    tokens = text.lower().split()\n",
    "    cleaned = [word for word in tokens if word not in stopwords]\n",
    "    return ' '.join(cleaned)\n",
    "\n",
    "# Apply cleaning\n",
    "df['Cleaned Job Description'] = df['Full Job Description'].apply(clean_text)\n",
    "\n",
    "# Keep only required columns\n",
    "df_filtered = df[['Job ID', 'Search Keyword', 'Full Job Description', 'Cleaned Job Description']]\n",
    "df_filtered.to_excel(output_path, index=False)\n",
    "\n",
    "print(\"Filtered and cleaned file saved to:\", output_path)\n"
   ]
  },
  {
   "cell_type": "code",
   "execution_count": null,
   "id": "c02258df",
   "metadata": {},
   "outputs": [],
   "source": [
    "\n",
    "from collections import Counter\n",
    "\n",
    "# Load the cleaned job descriptions\n",
    "input_path = \"/Users/kirancorreya/Downloads/Dessertation/fies/Reed_Textanalysis.xlsx\"\n",
    "df = pd.read_excel(input_path)\n",
    "\n",
    "# Combine all cleaned job descriptions into one string\n",
    "all_words = ' '.join(df['Cleaned Job Description'].dropna()).split()\n",
    "\n",
    "# Count frequency of each word\n",
    "word_freq = Counter(all_words)\n",
    "\n",
    "# Convert to DataFrame\n",
    "freq_df = pd.DataFrame(word_freq.items(), columns=['Word', 'Frequency'])\n",
    "\n",
    "# Sort by frequency (descending)\n",
    "freq_df = freq_df.sort_values(by='Frequency', ascending=False)\n",
    "\n",
    "# Export to Excel for manual review\n",
    "output_path = \"/Users/kirancorreya/Downloads/Dessertation/fies/Top_Word_Frequencies.xlsx\"\n",
    "freq_df.to_excel(output_path, index=False)\n",
    "\n",
    "print(\"Word frequency file saved to:\", output_path)\n"
   ]
  }
 ],
 "metadata": {
  "kernelspec": {
   "display_name": "Python 3 (ipykernel)",
   "language": "python",
   "name": "python3"
  },
  "language_info": {
   "codemirror_mode": {
    "name": "ipython",
    "version": 3
   },
   "file_extension": ".py",
   "mimetype": "text/x-python",
   "name": "python",
   "nbconvert_exporter": "python",
   "pygments_lexer": "ipython3",
   "version": "3.11.5"
  }
 },
 "nbformat": 4,
 "nbformat_minor": 5
}
