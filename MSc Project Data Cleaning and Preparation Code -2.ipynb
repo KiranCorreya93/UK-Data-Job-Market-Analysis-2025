{
 "cells": [
  {
   "cell_type": "code",
   "execution_count": 1,
   "id": "6d882689",
   "metadata": {},
   "outputs": [
    {
     "name": "stdout",
     "output_type": "stream",
     "text": [
      "Dataset loaded. Shape: (6330, 10)\n",
      "Columns: Index(['Job ID', 'Job Title', 'Company', 'Location', 'Minimum Salary',\n",
      "       'Maximum Salary', 'Date Posted', 'Applications Count', 'Search Keyword',\n",
      "       'Full Job Description'],\n",
      "      dtype='object')\n"
     ]
    }
   ],
   "source": [
    "# ==============================\n",
    "# 1. Load Dataset\n",
    "# ==============================\n",
    "import pandas as pd\n",
    "\n",
    "file_path = \"/Users/kirancorreya/Downloads/Dessertation/fies/Dataset2025.xlsx\"\n",
    "df = pd.read_excel(file_path)\n",
    "\n",
    "# Add Job ID as row number\n",
    "df.insert(0, 'Job ID', range(1, len(df) + 1))\n",
    "\n",
    "\n",
    "print(\"Dataset loaded. Shape:\", df.shape)\n",
    "print(\"Columns:\", df.columns)"
   ]
  },
  {
   "cell_type": "code",
   "execution_count": 2,
   "id": "a67bb356",
   "metadata": {},
   "outputs": [
    {
     "name": "stdout",
     "output_type": "stream",
     "text": [
      "Matched Keywords column added.\n",
      "Number of job titles with matched keyword: 1561\n"
     ]
    }
   ],
   "source": [
    "\n",
    "# ==============================\n",
    "# 2. Match Keywords in Job Titles\n",
    "# ==============================\n",
    "import re\n",
    "\n",
    "keywords = ['data', 'data analyst', 'power', 'AI', 'data engineer', 'data scientist', 'data science',\n",
    "            'Sales Analyst', 'Business Analyst', 'Finance Analyst', 'Research Analyst', 'machine learning',\n",
    "            'python', 'Intelligence']\n",
    "\n",
    "def match_keywords_in_title(job_title):\n",
    "    matched = [kw for kw in keywords if re.search(r'\\b' + re.escape(kw.lower()) + r'\\b', str(job_title).lower())]\n",
    "    return ', '.join(matched) if matched else 'No Keyword'\n",
    "\n",
    "if 'Matched Keywords' not in df.columns:\n",
    "    df['Matched Keywords'] = df['Job Title'].apply(match_keywords_in_title)\n",
    "\n",
    "print(\"Matched Keywords column added.\")\n",
    "\n",
    "# NEW: Count how many rows have 'No Keyword'\n",
    "keyword_count = (df['Matched Keywords'] != 'No Keyword').sum()\n",
    "print(f\"Number of job titles with matched keyword: {keyword_count}\")\n",
    "\n"
   ]
  },
  {
   "cell_type": "code",
   "execution_count": 7,
   "id": "dc401cd0",
   "metadata": {},
   "outputs": [
    {
     "name": "stdout",
     "output_type": "stream",
     "text": [
      "Skills extracted.\n"
     ]
    }
   ],
   "source": [
    "\n",
    "# ==============================\n",
    "# 3. Extract Skills from Job Descriptions\n",
    "# ==============================\n",
    "skills = ['python', 'sql', 'r', 'machine learning',\n",
    "          'tableau', 'snowflake', 'aws', 'excel',\n",
    "          'power bi']\n",
    "\n",
    "short_skills = ['r']\n",
    "long_skills = [skill for skill in skills if skill not in short_skills]\n",
    "\n",
    "def extract_skills(description):\n",
    "    description_cleaned = re.sub(r'[^a-zA-Z]', '', str(description).lower())\n",
    "    matched_skills = []\n",
    "\n",
    "    for skill in long_skills:\n",
    "        if skill.replace(\" \", \"\").lower() in description_cleaned:\n",
    "            matched_skills.append(skill)\n",
    "\n",
    "    for short_skill in short_skills:\n",
    "        if re.search(r'\\b' + re.escape(short_skill) + r'\\b', str(description), re.IGNORECASE):\n",
    "            matched_skills.append(short_skill)\n",
    "\n",
    "    return matched_skills if matched_skills else \"No skills found\"\n",
    "\n",
    "df['Matched Skills'] = df['Full Job Description'].apply(extract_skills)\n",
    "print(\"Skills extracted.\")\n",
    "\n"
   ]
  },
  {
   "cell_type": "code",
   "execution_count": 8,
   "id": "4928812b",
   "metadata": {},
   "outputs": [
    {
     "name": "stdout",
     "output_type": "stream",
     "text": [
      "Salaries standardized.\n"
     ]
    }
   ],
   "source": [
    "\n",
    "# ==============================\n",
    "# 4. Salary Standardization\n",
    "# ==============================\n",
    "def detect_salary_type(salary):\n",
    "    if pd.isna(salary):\n",
    "        return None\n",
    "    if 0 <= salary <= 96:\n",
    "        return 'Hourly'\n",
    "    elif 97 <= salary <= 479:\n",
    "        return 'Daily'\n",
    "    elif 480 <= salary <= 2099:\n",
    "        return 'Weekly'\n",
    "    elif 2100 <= salary <= 6500:\n",
    "        return 'Monthly'\n",
    "    else:\n",
    "        return 'Yearly'\n",
    "\n",
    "def get_salary_type(row):\n",
    "    if pd.notna(row['Minimum Salary']):\n",
    "        return detect_salary_type(row['Minimum Salary'])\n",
    "    elif pd.notna(row['Maximum Salary']):\n",
    "        return detect_salary_type(row['Maximum Salary'])\n",
    "    return None\n",
    "\n",
    "df['Salary Type'] = df.apply(get_salary_type, axis=1)\n",
    "\n",
    "def convert_to_annual(row):\n",
    "    min_salary = row['Minimum Salary']\n",
    "    max_salary = row['Maximum Salary']\n",
    "    avg_salary = None\n",
    "\n",
    "    if pd.notna(min_salary) and pd.notna(max_salary):\n",
    "        avg_salary = (min_salary + max_salary) / 2\n",
    "    elif pd.notna(min_salary):\n",
    "        avg_salary = min_salary\n",
    "    elif pd.notna(max_salary):\n",
    "        avg_salary = max_salary\n",
    "    else:\n",
    "        return None\n",
    "\n",
    "    salary_type = row['Salary Type']\n",
    "\n",
    "    if salary_type == 'Hourly':\n",
    "        return avg_salary * 40 * 52\n",
    "    elif salary_type == 'Daily':\n",
    "        return avg_salary * 5 * 52\n",
    "    elif salary_type == 'Weekly':\n",
    "        return avg_salary * 52\n",
    "    elif salary_type == 'Monthly':\n",
    "        return avg_salary * 12\n",
    "    elif salary_type == 'Yearly':\n",
    "        return avg_salary\n",
    "    return None\n",
    "\n",
    "df['Standardised Annual Salary'] = df.apply(convert_to_annual, axis=1)\n",
    "\n",
    "print(\"Salaries standardized.\")\n",
    "\n"
   ]
  },
  {
   "cell_type": "code",
   "execution_count": 9,
   "id": "9702ff3c",
   "metadata": {},
   "outputs": [
    {
     "name": "stdout",
     "output_type": "stream",
     "text": [
      "Final dataset saved at: /Users/kirancorreya/Downloads/Dessertation/fies/Final_Processed_Dataset2025.xlsx\n"
     ]
    }
   ],
   "source": [
    "\n",
    "# ==============================\n",
    "# 5. Save Processed Dataset\n",
    "# ==============================\n",
    "output_path = \"/Users/kirancorreya/Downloads/Dessertation/fies/Final_Processed_Dataset2025.xlsx\"\n",
    "df.to_excel(output_path, index=False)\n",
    "\n",
    "print(\"Final dataset saved at:\", output_path)\n",
    "\n"
   ]
  },
  {
   "cell_type": "code",
   "execution_count": null,
   "id": "45012018",
   "metadata": {},
   "outputs": [],
   "source": []
  },
  {
   "cell_type": "code",
   "execution_count": null,
   "id": "bc80f470",
   "metadata": {},
   "outputs": [],
   "source": []
  }
 ],
 "metadata": {
  "kernelspec": {
   "display_name": "Python 3 (ipykernel)",
   "language": "python",
   "name": "python3"
  },
  "language_info": {
   "codemirror_mode": {
    "name": "ipython",
    "version": 3
   },
   "file_extension": ".py",
   "mimetype": "text/x-python",
   "name": "python",
   "nbconvert_exporter": "python",
   "pygments_lexer": "ipython3",
   "version": "3.11.5"
  }
 },
 "nbformat": 4,
 "nbformat_minor": 5
}
