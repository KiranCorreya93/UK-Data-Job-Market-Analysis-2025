{
 "cells": [
  {
   "cell_type": "code",
   "execution_count": 10,
   "id": "4e61f601",
   "metadata": {},
   "outputs": [
    {
     "name": "stdout",
     "output_type": "stream",
     "text": [
      "✅ Cleaned and exploded dataset saved to:\n",
      "/Users/kirancorreya/Downloads/Dessertation/fies/Reed_Skills_Filtered.xlsx\n"
     ]
    }
   ],
   "source": [
    "import pandas as pd\n",
    "\n",
    "# Load the Excel file\n",
    "input_path = \"/Users/kirancorreya/Downloads/Dessertation/fies/Reed_Dataset.xlsx\"\n",
    "df = pd.read_excel(input_path)\n",
    "\n",
    "# Filter out rows where Matched Keywords == 'no keyword'\n",
    "df_filtered = df[df['Matched Keywords'].fillna('').str.lower().str.strip() != 'no keyword'].copy()\n",
    "\n",
    "# Handle and explode Matched Skills\n",
    "df_filtered['Matched Skills'] = df_filtered['Matched Skills'].fillna('')\n",
    "df_filtered['Matched Skills'] = df_filtered['Matched Skills'].apply(\n",
    "    lambda x: [skill.strip() for skill in x.split(',') if skill.strip()]\n",
    ")\n",
    "\n",
    "# Explode into long format\n",
    "df_exploded = df_filtered.explode('Matched Skills').rename(columns={'Matched Skills': 'Skill'})\n",
    "\n",
    "\n",
    "columns_to_keep = ['Job ID','Search Keyword','Skill']\n",
    "\n",
    "df_exploded = df_exploded[columns_to_keep]\n",
    "\n",
    "# Save the cleaned and exploded file\n",
    "output_path = \"/Users/kirancorreya/Downloads/Dessertation/fies/Reed_Skills_Filtered.xlsx\"\n",
    "df_exploded.to_excel(output_path, index=False)\n",
    "\n",
    "print(f\"✅ Cleaned and exploded dataset saved to:\\n{output_path}\")\n"
   ]
  },
  {
   "cell_type": "code",
   "execution_count": null,
   "id": "2908b065",
   "metadata": {},
   "outputs": [],
   "source": []
  },
  {
   "cell_type": "code",
   "execution_count": null,
   "id": "0bb825c3",
   "metadata": {},
   "outputs": [],
   "source": []
  }
 ],
 "metadata": {
  "kernelspec": {
   "display_name": "Python 3 (ipykernel)",
   "language": "python",
   "name": "python3"
  },
  "language_info": {
   "codemirror_mode": {
    "name": "ipython",
    "version": 3
   },
   "file_extension": ".py",
   "mimetype": "text/x-python",
   "name": "python",
   "nbconvert_exporter": "python",
   "pygments_lexer": "ipython3",
   "version": "3.11.5"
  }
 },
 "nbformat": 4,
 "nbformat_minor": 5
}
